{
 "cells": [
  {
   "cell_type": "code",
   "execution_count": 13,
   "metadata": {},
   "outputs": [
    {
     "data": {
      "text/plain": [
       "{'0000': 'H',\n",
       " '0001': 'e',\n",
       " '001': 't',\n",
       " '0100': 'i',\n",
       " '0101': 'space',\n",
       " '011': 'k',\n",
       " '100': 'y',\n",
       " '101': 'o',\n",
       " '11': 'l'}"
      ]
     },
     "execution_count": 13,
     "metadata": {},
     "output_type": "execute_result"
    }
   ],
   "source": [
    "with open('decode.txt') as f:\n",
    "    lines = f.readlines()\n",
    "arr = dict()\n",
    "for x in lines:\n",
    "    arr[x.split(' ')[1].replace('\\n', '')] = x.split(' ')[0]\n",
    "arr"
   ]
  },
  {
   "cell_type": "code",
   "execution_count": 16,
   "metadata": {},
   "outputs": [
    {
     "data": {
      "text/plain": [
       "'Hello kitty'"
      ]
     },
     "execution_count": 16,
     "metadata": {},
     "output_type": "execute_result"
    }
   ],
   "source": [
    "count = dict()\n",
    "f = open(\"code.txt\", \"r\").read()\n",
    "temp = \"\"\n",
    "string = \"\"\n",
    "for x in list(f):\n",
    "    temp += x\n",
    "    if temp in arr.keys():\n",
    "        if arr[temp] == 'space':\n",
    "            string += ' '\n",
    "        else:\n",
    "            string += arr[temp]\n",
    "        temp = \"\"\n",
    "string\n"
   ]
  }
 ],
 "metadata": {
  "kernelspec": {
   "display_name": "Python 3",
   "language": "python",
   "name": "python3"
  },
  "language_info": {
   "codemirror_mode": {
    "name": "ipython",
    "version": 3
   },
   "file_extension": ".py",
   "mimetype": "text/x-python",
   "name": "python",
   "nbconvert_exporter": "python",
   "pygments_lexer": "ipython3",
   "version": "3.8.5"
  }
 },
 "nbformat": 4,
 "nbformat_minor": 4
}
